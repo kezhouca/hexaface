{
 "cells": [
  {
   "cell_type": "markdown",
   "metadata": {},
   "source": [
    "# MTCNN"
   ]
  },
  {
   "cell_type": "markdown",
   "metadata": {},
   "source": [
    "This work is used for reproducing MTCNN,a Joint Face Detection and Alignment using Multi-task Cascaded Convolutional Networks."
   ]
  },
  {
   "cell_type": "markdown",
   "metadata": {},
   "source": [
    "# Environment and Dependencies"
   ]
  },
  {
   "cell_type": "markdown",
   "metadata": {},
   "source": [
    "## install tensorflow opencv and jupyter notebook"
   ]
  },
  {
   "cell_type": "code",
   "execution_count": null,
   "metadata": {},
   "outputs": [],
   "source": [
    "!conda create --name tf1 tensorflow=1.15 opencv jupyter"
   ]
  },
  {
   "cell_type": "markdown",
   "metadata": {},
   "source": [
    "## install gdown"
   ]
  },
  {
   "cell_type": "code",
   "execution_count": null,
   "metadata": {},
   "outputs": [],
   "source": [
    " !conda install -y -c conda-forge gdown"
   ]
  },
  {
   "cell_type": "markdown",
   "metadata": {},
   "source": [
    "## install tqdm"
   ]
  },
  {
   "cell_type": "code",
   "execution_count": null,
   "metadata": {},
   "outputs": [],
   "source": [
    " !conda install -y -c conda-forge tqdm"
   ]
  },
  {
   "cell_type": "markdown",
   "metadata": {},
   "source": [
    "# Download Data"
   ]
  },
  {
   "cell_type": "code",
   "execution_count": null,
   "metadata": {
    "colab": {
     "base_uri": "https://localhost:8080/",
     "height": 35
    },
    "colab_type": "code",
    "id": "sHD_93uJ1U2b",
    "outputId": "9c611727-a7f7-4c60-d28f-b101b338059e"
   },
   "outputs": [],
   "source": [
    "cd data"
   ]
  },
  {
   "cell_type": "markdown",
   "metadata": {},
   "source": [
    "## WIDER Face dataset for face detection: \n",
    "http://shuoyang1213.me/WIDERFACE/"
   ]
  },
  {
   "cell_type": "code",
   "execution_count": null,
   "metadata": {
    "colab": {},
    "colab_type": "code",
    "id": "eBoqhzV-HgU3"
   },
   "outputs": [],
   "source": [
    "!gdown https://drive.google.com/uc?id=0B6eKvaijfFUDQUUwd21EckhUbWs\n",
    "!unzip -o WIDER_train.zip\n",
    "!rm WIDER_train.zip"
   ]
  },
  {
   "cell_type": "markdown",
   "metadata": {},
   "source": [
    "## Dataset for landmark detection: \n",
    "http://mmlab.ie.cuhk.edu.hk/archive/CNN_FacePoint.htm"
   ]
  },
  {
   "cell_type": "code",
   "execution_count": null,
   "metadata": {
    "colab": {},
    "colab_type": "code",
    "id": "V1vo5jo7JBTg"
   },
   "outputs": [],
   "source": [
    "!gdown http://mmlab.ie.cuhk.edu.hk/archive/CNN/data/train.zip\n",
    "!unzip -o train.zip\n",
    "!rm train.zip"
   ]
  },
  {
   "cell_type": "markdown",
   "metadata": {},
   "source": [
    "# Prepare and Train"
   ]
  },
  {
   "cell_type": "code",
   "execution_count": null,
   "metadata": {},
   "outputs": [],
   "source": [
    "cd ../preprocess/"
   ]
  },
  {
   "cell_type": "code",
   "execution_count": null,
   "metadata": {
    "colab": {
     "base_uri": "https://localhost:8080/",
     "height": 65
    },
    "colab_type": "code",
    "id": "zrtHhQ7L1ZtN",
    "outputId": "2a2a06d7-0bf9-4b77-a7a7-b6f7b3691a40"
   },
   "outputs": [],
   "source": [
    "!python gen_12net_data.py"
   ]
  },
  {
   "cell_type": "code",
   "execution_count": null,
   "metadata": {
    "colab": {},
    "colab_type": "code",
    "id": "rkpZnaIL1gHV"
   },
   "outputs": [],
   "source": [
    "!python gen_landmark_aug.py 12"
   ]
  },
  {
   "cell_type": "code",
   "execution_count": null,
   "metadata": {
    "colab": {},
    "colab_type": "code",
    "id": "AnOWogt730e1"
   },
   "outputs": [],
   "source": [
    "!python gen_imglist_pnet.py"
   ]
  },
  {
   "cell_type": "code",
   "execution_count": null,
   "metadata": {
    "colab": {},
    "colab_type": "code",
    "id": "ypAqXHH7AYv0"
   },
   "outputs": [],
   "source": [
    "!python gen_tfrecords.py 12"
   ]
  },
  {
   "cell_type": "code",
   "execution_count": null,
   "metadata": {
    "colab": {},
    "colab_type": "code",
    "id": "rfNmkF7TAc8L"
   },
   "outputs": [],
   "source": [
    "cd ../train"
   ]
  },
  {
   "cell_type": "code",
   "execution_count": null,
   "metadata": {
    "colab": {},
    "colab_type": "code",
    "id": "3SwWxllKMEnl"
   },
   "outputs": [],
   "source": [
    "!python train.py 12 "
   ]
  },
  {
   "cell_type": "code",
   "execution_count": null,
   "metadata": {
    "colab": {},
    "colab_type": "code",
    "id": "UW6Ncb1lGOD9"
   },
   "outputs": [],
   "source": [
    "cd ../preprocess"
   ]
  },
  {
   "cell_type": "code",
   "execution_count": null,
   "metadata": {
    "colab": {},
    "colab_type": "code",
    "id": "1MNZ33X9MNmS"
   },
   "outputs": [],
   "source": [
    "!python facedetect/preprocess/gen_hard_example.py 12"
   ]
  },
  {
   "cell_type": "code",
   "execution_count": null,
   "metadata": {
    "colab": {},
    "colab_type": "code",
    "id": "wI0IMf7FMQmJ"
   },
   "outputs": [],
   "source": [
    "!python gen_landmark_aug.py 24"
   ]
  },
  {
   "cell_type": "code",
   "execution_count": null,
   "metadata": {
    "colab": {},
    "colab_type": "code",
    "id": "Es6n4io5MUZ2"
   },
   "outputs": [],
   "source": [
    "!python gen_tfrecords.py 24"
   ]
  },
  {
   "cell_type": "code",
   "execution_count": null,
   "metadata": {
    "colab": {},
    "colab_type": "code",
    "id": "GHSzaibOL4FS"
   },
   "outputs": [],
   "source": [
    "cd ../train"
   ]
  },
  {
   "cell_type": "code",
   "execution_count": null,
   "metadata": {
    "colab": {},
    "colab_type": "code",
    "id": "q75yuTKHMV1C"
   },
   "outputs": [],
   "source": [
    "!python train.py 24"
   ]
  },
  {
   "cell_type": "code",
   "execution_count": null,
   "metadata": {
    "colab": {},
    "colab_type": "code",
    "id": "MweKVal3Hh9I"
   },
   "outputs": [],
   "source": [
    "cd ../preprocess"
   ]
  },
  {
   "cell_type": "code",
   "execution_count": null,
   "metadata": {
    "colab": {},
    "colab_type": "code",
    "id": "HLOgxvbBMcOr"
   },
   "outputs": [],
   "source": [
    "!python gen_hard_example.py 24 "
   ]
  },
  {
   "cell_type": "code",
   "execution_count": null,
   "metadata": {
    "colab": {},
    "colab_type": "code",
    "id": "kUGltW6vMf21"
   },
   "outputs": [],
   "source": [
    "!python gen_landmark_aug.py 48"
   ]
  },
  {
   "cell_type": "code",
   "execution_count": null,
   "metadata": {
    "colab": {},
    "colab_type": "code",
    "id": "7CouwX0pMgfu"
   },
   "outputs": [],
   "source": [
    "!python gen_tfrecords.py 48"
   ]
  },
  {
   "cell_type": "code",
   "execution_count": null,
   "metadata": {
    "colab": {},
    "colab_type": "code",
    "id": "zzXwd0KaMBox"
   },
   "outputs": [],
   "source": [
    "cd ../train"
   ]
  },
  {
   "cell_type": "code",
   "execution_count": null,
   "metadata": {
    "colab": {},
    "colab_type": "code",
    "id": "EzMkCC76MlMN"
   },
   "outputs": [],
   "source": [
    "!python train.py 48 "
   ]
  },
  {
   "cell_type": "markdown",
   "metadata": {},
   "source": [
    "# Test"
   ]
  },
  {
   "cell_type": "code",
   "execution_count": null,
   "metadata": {},
   "outputs": [],
   "source": [
    "cd .."
   ]
  },
  {
   "cell_type": "code",
   "execution_count": null,
   "metadata": {},
   "outputs": [],
   "source": [
    "!python test.py"
   ]
  },
  {
   "cell_type": "code",
   "execution_count": null,
   "metadata": {},
   "outputs": [],
   "source": [
    "from mtcnn import MTCNN\n",
    "import cv2\n",
    "image = cv2.imread(\"picture/Picture1.jpg\")\n",
    "detector = MTCNN()\n",
    "result=detector.detect_faces(image)\n",
    "# Result is an array with all the bounding boxes detected. We know that for 'ivan.jpg' there is only one.\n",
    "for r in result:\n",
    "    bounding_box = r['box']\n",
    "    keypoints = r['keypoints']\n",
    "\n",
    "    cv2.rectangle(image,\n",
    "                  (bounding_box[0], bounding_box[1]),\n",
    "                  (bounding_box[0]+bounding_box[2], bounding_box[1] + bounding_box[3]),\n",
    "                  (0,0,255))\n",
    "    cv2.putText(image, '{:.2f}'.format(r['confidence']),\n",
    "                   (bounding_box[0], bounding_box[1] - 2),\n",
    "                    cv2.FONT_HERSHEY_SIMPLEX, 0.5,(0, 0, 255))\n",
    "\n",
    "    cv2.circle(image,(keypoints['left_eye']), 2, (0, 0, 255))\n",
    "    cv2.circle(image,(keypoints['right_eye']), 2, (0, 0, 255))\n",
    "    cv2.circle(image,(keypoints['nose']), 2, (0, 0, 255))\n",
    "    cv2.circle(image,(keypoints['mouth_left']), 2, (0, 0, 255))\n",
    "    cv2.circle(image,(keypoints['mouth_right']), 2, (0, 0, 255))\n",
    "\n",
    "cv2.imwrite(\"test.jpg\", image)\n",
    "\n",
    "print(result)"
   ]
  },
  {
   "cell_type": "markdown",
   "metadata": {},
   "source": [
    "# Reference"
   ]
  },
  {
   "cell_type": "markdown",
   "metadata": {},
   "source": [
    "## https://github.com/AITTSMD/MTCNN-Tensorflow"
   ]
  },
  {
   "cell_type": "markdown",
   "metadata": {},
   "source": [
    "## https://github.com/LeslieZhoa/tensorflow-MTCNN"
   ]
  },
  {
   "cell_type": "code",
   "execution_count": null,
   "metadata": {},
   "outputs": [],
   "source": []
  }
 ],
 "metadata": {
  "colab": {
   "collapsed_sections": [],
   "name": "mtcnn-tf.ipynb",
   "provenance": []
  },
  "kernelspec": {
   "display_name": "Python 3",
   "language": "python",
   "name": "python3"
  },
  "language_info": {
   "codemirror_mode": {
    "name": "ipython",
    "version": 3
   },
   "file_extension": ".py",
   "mimetype": "text/x-python",
   "name": "python",
   "nbconvert_exporter": "python",
   "pygments_lexer": "ipython3",
   "version": "3.7.7"
  },
  "toc": {
   "base_numbering": 1,
   "nav_menu": {},
   "number_sections": true,
   "sideBar": true,
   "skip_h1_title": false,
   "title_cell": "Table of Contents",
   "title_sidebar": "Contents",
   "toc_cell": false,
   "toc_position": {},
   "toc_section_display": true,
   "toc_window_display": false
  }
 },
 "nbformat": 4,
 "nbformat_minor": 1
}
